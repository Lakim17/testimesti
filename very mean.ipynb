{
 "cells": [
  {
   "cell_type": "code",
   "execution_count": 1,
   "id": "366f83a8",
   "metadata": {},
   "outputs": [],
   "source": [
    "import pandas as pd"
   ]
  },
  {
   "cell_type": "code",
   "execution_count": 20,
   "id": "2b2f3647",
   "metadata": {},
   "outputs": [],
   "source": [
    "d = {'stupid': ['Stupido', 'shooot de foook ooop'], 'fuckoff': ['get lost', 'why are you still here?']}\n",
    "df = pd.DataFrame(data=d, index = ['HI :)', 'Why are you so mean?'])"
   ]
  },
  {
   "cell_type": "code",
   "execution_count": 21,
   "id": "7b40a616",
   "metadata": {},
   "outputs": [
    {
     "data": {
      "text/html": [
       "<div>\n",
       "<style scoped>\n",
       "    .dataframe tbody tr th:only-of-type {\n",
       "        vertical-align: middle;\n",
       "    }\n",
       "\n",
       "    .dataframe tbody tr th {\n",
       "        vertical-align: top;\n",
       "    }\n",
       "\n",
       "    .dataframe thead th {\n",
       "        text-align: right;\n",
       "    }\n",
       "</style>\n",
       "<table border=\"1\" class=\"dataframe\">\n",
       "  <thead>\n",
       "    <tr style=\"text-align: right;\">\n",
       "      <th></th>\n",
       "      <th>stupid</th>\n",
       "      <th>fuckoff</th>\n",
       "    </tr>\n",
       "  </thead>\n",
       "  <tbody>\n",
       "    <tr>\n",
       "      <th>HI :)</th>\n",
       "      <td>Stupido</td>\n",
       "      <td>get lost</td>\n",
       "    </tr>\n",
       "    <tr>\n",
       "      <th>Why are you so mean?</th>\n",
       "      <td>shooot de foook ooop</td>\n",
       "      <td>why are you still here?</td>\n",
       "    </tr>\n",
       "  </tbody>\n",
       "</table>\n",
       "</div>"
      ],
      "text/plain": [
       "                                    stupid                  fuckoff\n",
       "HI :)                              Stupido                 get lost\n",
       "Why are you so mean?  shooot de foook ooop  why are you still here?"
      ]
     },
     "execution_count": 21,
     "metadata": {},
     "output_type": "execute_result"
    }
   ],
   "source": [
    "df"
   ]
  },
  {
   "cell_type": "code",
   "execution_count": null,
   "id": "6563842b",
   "metadata": {},
   "outputs": [],
   "source": []
  }
 ],
 "metadata": {
  "kernelspec": {
   "display_name": "Python 3 (ipykernel)",
   "language": "python",
   "name": "python3"
  },
  "language_info": {
   "codemirror_mode": {
    "name": "ipython",
    "version": 3
   },
   "file_extension": ".py",
   "mimetype": "text/x-python",
   "name": "python",
   "nbconvert_exporter": "python",
   "pygments_lexer": "ipython3",
   "version": "3.11.7"
  }
 },
 "nbformat": 4,
 "nbformat_minor": 5
}
