{
 "cells": [
  {
   "cell_type": "code",
   "execution_count": 2,
   "id": "366f83a8",
   "metadata": {},
   "outputs": [],
   "source": [
    "import pandas as pd"
   ]
  },
  {
   "cell_type": "code",
   "execution_count": 3,
   "id": "2b2f3647",
   "metadata": {},
   "outputs": [],
   "source": [
    "d = {'lovely': ['nice guy', \"i'm listening to what you're saying\"], 'i hope you have a nice day': ['bless you', 'wish you a good day']}\n",
    "df = pd.DataFrame(data=d, index = ['HI :)', 'Why are you so kind?'])"
   ]
  },
  {
   "cell_type": "code",
   "execution_count": 4,
   "id": "7b40a616",
   "metadata": {},
   "outputs": [
    {
     "data": {
      "text/html": [
       "<div>\n",
       "<style scoped>\n",
       "    .dataframe tbody tr th:only-of-type {\n",
       "        vertical-align: middle;\n",
       "    }\n",
       "\n",
       "    .dataframe tbody tr th {\n",
       "        vertical-align: top;\n",
       "    }\n",
       "\n",
       "    .dataframe thead th {\n",
       "        text-align: right;\n",
       "    }\n",
       "</style>\n",
       "<table border=\"1\" class=\"dataframe\">\n",
       "  <thead>\n",
       "    <tr style=\"text-align: right;\">\n",
       "      <th></th>\n",
       "      <th>lovely</th>\n",
       "      <th>i hope you have a nice day</th>\n",
       "    </tr>\n",
       "  </thead>\n",
       "  <tbody>\n",
       "    <tr>\n",
       "      <th>HI :)</th>\n",
       "      <td>nice guy</td>\n",
       "      <td>bless you</td>\n",
       "    </tr>\n",
       "    <tr>\n",
       "      <th>Why are you so kind?</th>\n",
       "      <td>i'm listening to what you're saying</td>\n",
       "      <td>wish you a good day</td>\n",
       "    </tr>\n",
       "  </tbody>\n",
       "</table>\n",
       "</div>"
      ],
      "text/plain": [
       "                                                   lovely  \\\n",
       "HI :)                                            nice guy   \n",
       "Why are you so kind?  i'm listening to what you're saying   \n",
       "\n",
       "                     i hope you have a nice day  \n",
       "HI :)                                 bless you  \n",
       "Why are you so kind?        wish you a good day  "
      ]
     },
     "execution_count": 4,
     "metadata": {},
     "output_type": "execute_result"
    }
   ],
   "source": [
    "df"
   ]
  },
  {
   "cell_type": "code",
   "execution_count": null,
   "id": "6563842b",
   "metadata": {},
   "outputs": [],
   "source": []
  }
 ],
 "metadata": {
  "kernelspec": {
   "display_name": "Python 3 (ipykernel)",
   "language": "python",
   "name": "python3"
  },
  "language_info": {
   "codemirror_mode": {
    "name": "ipython",
    "version": 3
   },
   "file_extension": ".py",
   "mimetype": "text/x-python",
   "name": "python",
   "nbconvert_exporter": "python",
   "pygments_lexer": "ipython3",
   "version": "3.11.7"
  }
 },
 "nbformat": 4,
 "nbformat_minor": 5
}
